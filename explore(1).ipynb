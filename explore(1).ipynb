{
 "cells": [
  {
   "cell_type": "code",
   "execution_count": 1,
   "id": "8db534a4",
   "metadata": {},
   "outputs": [
    {
     "name": "stdout",
     "output_type": "stream",
     "text": [
      "Requirement already satisfied: numpy in c:\\tools\\miniconda3\\lib\\site-packages (1.21.3)\n",
      "Note: you may need to restart the kernel to use updated packages.\n",
      "Requirement already satisfied: pandas in c:\\tools\\miniconda3\\lib\\site-packages (1.3.4)\n",
      "Requirement already satisfied: numpy>=1.17.3 in c:\\tools\\miniconda3\\lib\\site-packages (from pandas) (1.21.3)\n",
      "Requirement already satisfied: pytz>=2017.3 in c:\\tools\\miniconda3\\lib\\site-packages (from pandas) (2021.3)\n",
      "Requirement already satisfied: python-dateutil>=2.7.3 in c:\\tools\\miniconda3\\lib\\site-packages (from pandas) (2.8.2)\n",
      "Requirement already satisfied: six>=1.5 in c:\\tools\\miniconda3\\lib\\site-packages (from python-dateutil>=2.7.3->pandas) (1.16.0)\n",
      "Note: you may need to restart the kernel to use updated packages.\n",
      "Note: you may need to restart the kernel to use updated packages.\n"
     ]
    },
    {
     "name": "stderr",
     "output_type": "stream",
     "text": [
      "ERROR: Could not find a version that satisfies the requirement pickle (from versions: none)\n",
      "ERROR: No matching distribution found for pickle\n"
     ]
    },
    {
     "name": "stdout",
     "output_type": "stream",
     "text": [
      "Requirement already satisfied: ipywidgets in c:\\tools\\miniconda3\\lib\\site-packages (7.6.5)\n",
      "Requirement already satisfied: widgetsnbextension~=3.5.0 in c:\\tools\\miniconda3\\lib\\site-packages (from ipywidgets) (3.5.2)\n",
      "Requirement already satisfied: nbformat>=4.2.0 in c:\\tools\\miniconda3\\lib\\site-packages (from ipywidgets) (5.1.3)\n",
      "Requirement already satisfied: jupyterlab-widgets>=1.0.0 in c:\\tools\\miniconda3\\lib\\site-packages (from ipywidgets) (1.0.2)\n",
      "Requirement already satisfied: traitlets>=4.3.1 in c:\\tools\\miniconda3\\lib\\site-packages (from ipywidgets) (5.1.1)\n",
      "Requirement already satisfied: ipython>=4.0.0 in c:\\tools\\miniconda3\\lib\\site-packages (from ipywidgets) (7.29.0)\n",
      "Requirement already satisfied: ipykernel>=4.5.1 in c:\\tools\\miniconda3\\lib\\site-packages (from ipywidgets) (6.4.2)\n",
      "Requirement already satisfied: ipython-genutils~=0.2.0 in c:\\tools\\miniconda3\\lib\\site-packages (from ipywidgets) (0.2.0)\n",
      "Requirement already satisfied: tornado<7.0,>=4.2 in c:\\tools\\miniconda3\\lib\\site-packages (from ipykernel>=4.5.1->ipywidgets) (6.1)\n",
      "Requirement already satisfied: jupyter-client<8.0 in c:\\tools\\miniconda3\\lib\\site-packages (from ipykernel>=4.5.1->ipywidgets) (7.0.6)\n",
      "Requirement already satisfied: debugpy<2.0,>=1.0.0 in c:\\tools\\miniconda3\\lib\\site-packages (from ipykernel>=4.5.1->ipywidgets) (1.5.1)\n",
      "Requirement already satisfied: matplotlib-inline<0.2.0,>=0.1.0 in c:\\tools\\miniconda3\\lib\\site-packages (from ipykernel>=4.5.1->ipywidgets) (0.1.3)\n",
      "Requirement already satisfied: colorama in c:\\tools\\miniconda3\\lib\\site-packages (from ipython>=4.0.0->ipywidgets) (0.4.4)\n",
      "Requirement already satisfied: backcall in c:\\tools\\miniconda3\\lib\\site-packages (from ipython>=4.0.0->ipywidgets) (0.2.0)\n",
      "Requirement already satisfied: prompt-toolkit!=3.0.0,!=3.0.1,<3.1.0,>=2.0.0 in c:\\tools\\miniconda3\\lib\\site-packages (from ipython>=4.0.0->ipywidgets) (3.0.21)\n",
      "Requirement already satisfied: jedi>=0.16 in c:\\tools\\miniconda3\\lib\\site-packages (from ipython>=4.0.0->ipywidgets) (0.18.0)\n",
      "Requirement already satisfied: pickleshare in c:\\tools\\miniconda3\\lib\\site-packages (from ipython>=4.0.0->ipywidgets) (0.7.5)\n",
      "Requirement already satisfied: decorator in c:\\tools\\miniconda3\\lib\\site-packages (from ipython>=4.0.0->ipywidgets) (5.1.0)\n",
      "Requirement already satisfied: setuptools>=18.5 in c:\\tools\\miniconda3\\lib\\site-packages (from ipython>=4.0.0->ipywidgets) (58.0.4)\n",
      "Requirement already satisfied: pygments in c:\\tools\\miniconda3\\lib\\site-packages (from ipython>=4.0.0->ipywidgets) (2.10.0)\n",
      "Requirement already satisfied: parso<0.9.0,>=0.8.0 in c:\\tools\\miniconda3\\lib\\site-packages (from jedi>=0.16->ipython>=4.0.0->ipywidgets) (0.8.2)\n",
      "Requirement already satisfied: pyzmq>=13 in c:\\tools\\miniconda3\\lib\\site-packages (from jupyter-client<8.0->ipykernel>=4.5.1->ipywidgets) (22.3.0)\n",
      "Requirement already satisfied: jupyter-core>=4.6.0 in c:\\tools\\miniconda3\\lib\\site-packages (from jupyter-client<8.0->ipykernel>=4.5.1->ipywidgets) (4.9.1)\n",
      "Requirement already satisfied: nest-asyncio>=1.5 in c:\\tools\\miniconda3\\lib\\site-packages (from jupyter-client<8.0->ipykernel>=4.5.1->ipywidgets) (1.5.1)\n",
      "Requirement already satisfied: python-dateutil>=2.1 in c:\\tools\\miniconda3\\lib\\site-packages (from jupyter-client<8.0->ipykernel>=4.5.1->ipywidgets) (2.8.2)\n",
      "Requirement already satisfied: entrypoints in c:\\tools\\miniconda3\\lib\\site-packages (from jupyter-client<8.0->ipykernel>=4.5.1->ipywidgets) (0.3)\n",
      "Requirement already satisfied: pywin32>=1.0 in c:\\tools\\miniconda3\\lib\\site-packages (from jupyter-core>=4.6.0->jupyter-client<8.0->ipykernel>=4.5.1->ipywidgets) (228)\n",
      "Requirement already satisfied: jsonschema!=2.5.0,>=2.4 in c:\\tools\\miniconda3\\lib\\site-packages (from nbformat>=4.2.0->ipywidgets) (4.1.2)\n",
      "Requirement already satisfied: pyrsistent!=0.17.0,!=0.17.1,!=0.17.2,>=0.14.0 in c:\\tools\\miniconda3\\lib\\site-packages (from jsonschema!=2.5.0,>=2.4->nbformat>=4.2.0->ipywidgets) (0.18.0)\n",
      "Requirement already satisfied: attrs>=17.4.0 in c:\\tools\\miniconda3\\lib\\site-packages (from jsonschema!=2.5.0,>=2.4->nbformat>=4.2.0->ipywidgets) (21.2.0)\n",
      "Requirement already satisfied: wcwidth in c:\\tools\\miniconda3\\lib\\site-packages (from prompt-toolkit!=3.0.0,!=3.0.1,<3.1.0,>=2.0.0->ipython>=4.0.0->ipywidgets) (0.2.5)\n",
      "Requirement already satisfied: six>=1.5 in c:\\tools\\miniconda3\\lib\\site-packages (from python-dateutil>=2.1->jupyter-client<8.0->ipykernel>=4.5.1->ipywidgets) (1.16.0)\n",
      "Requirement already satisfied: notebook>=4.4.1 in c:\\tools\\miniconda3\\lib\\site-packages (from widgetsnbextension~=3.5.0->ipywidgets) (6.4.5)\n",
      "Requirement already satisfied: Send2Trash>=1.5.0 in c:\\tools\\miniconda3\\lib\\site-packages (from notebook>=4.4.1->widgetsnbextension~=3.5.0->ipywidgets) (1.8.0)\n",
      "Requirement already satisfied: prometheus-client in c:\\tools\\miniconda3\\lib\\site-packages (from notebook>=4.4.1->widgetsnbextension~=3.5.0->ipywidgets) (0.12.0)\n",
      "Requirement already satisfied: terminado>=0.8.3 in c:\\tools\\miniconda3\\lib\\site-packages (from notebook>=4.4.1->widgetsnbextension~=3.5.0->ipywidgets) (0.12.1)\n",
      "Requirement already satisfied: argon2-cffi in c:\\tools\\miniconda3\\lib\\site-packages (from notebook>=4.4.1->widgetsnbextension~=3.5.0->ipywidgets) (21.1.0)\n",
      "Requirement already satisfied: nbconvert in c:\\tools\\miniconda3\\lib\\site-packages (from notebook>=4.4.1->widgetsnbextension~=3.5.0->ipywidgets) (6.2.0)\n",
      "Requirement already satisfied: jinja2 in c:\\tools\\miniconda3\\lib\\site-packages (from notebook>=4.4.1->widgetsnbextension~=3.5.0->ipywidgets) (3.0.2)\n",
      "Requirement already satisfied: pywinpty>=1.1.0 in c:\\tools\\miniconda3\\lib\\site-packages (from terminado>=0.8.3->notebook>=4.4.1->widgetsnbextension~=3.5.0->ipywidgets) (1.1.5)\n",
      "Requirement already satisfied: cffi>=1.0.0 in c:\\tools\\miniconda3\\lib\\site-packages (from argon2-cffi->notebook>=4.4.1->widgetsnbextension~=3.5.0->ipywidgets) (1.14.6)\n",
      "Requirement already satisfied: pycparser in c:\\tools\\miniconda3\\lib\\site-packages (from cffi>=1.0.0->argon2-cffi->notebook>=4.4.1->widgetsnbextension~=3.5.0->ipywidgets) (2.20)\n",
      "Requirement already satisfied: MarkupSafe>=2.0 in c:\\tools\\miniconda3\\lib\\site-packages (from jinja2->notebook>=4.4.1->widgetsnbextension~=3.5.0->ipywidgets) (2.0.1)\n",
      "Requirement already satisfied: bleach in c:\\tools\\miniconda3\\lib\\site-packages (from nbconvert->notebook>=4.4.1->widgetsnbextension~=3.5.0->ipywidgets) (4.1.0)\n",
      "Requirement already satisfied: pandocfilters>=1.4.1 in c:\\tools\\miniconda3\\lib\\site-packages (from nbconvert->notebook>=4.4.1->widgetsnbextension~=3.5.0->ipywidgets) (1.5.0)\n",
      "Requirement already satisfied: defusedxml in c:\\tools\\miniconda3\\lib\\site-packages (from nbconvert->notebook>=4.4.1->widgetsnbextension~=3.5.0->ipywidgets) (0.7.1)\n",
      "Requirement already satisfied: jupyterlab-pygments in c:\\tools\\miniconda3\\lib\\site-packages (from nbconvert->notebook>=4.4.1->widgetsnbextension~=3.5.0->ipywidgets) (0.1.2)\n",
      "Requirement already satisfied: nbclient<0.6.0,>=0.5.0 in c:\\tools\\miniconda3\\lib\\site-packages (from nbconvert->notebook>=4.4.1->widgetsnbextension~=3.5.0->ipywidgets) (0.5.4)\n",
      "Requirement already satisfied: mistune<2,>=0.8.1 in c:\\tools\\miniconda3\\lib\\site-packages (from nbconvert->notebook>=4.4.1->widgetsnbextension~=3.5.0->ipywidgets) (0.8.4)\n",
      "Requirement already satisfied: testpath in c:\\tools\\miniconda3\\lib\\site-packages (from nbconvert->notebook>=4.4.1->widgetsnbextension~=3.5.0->ipywidgets) (0.5.0)\n",
      "Requirement already satisfied: webencodings in c:\\tools\\miniconda3\\lib\\site-packages (from bleach->nbconvert->notebook>=4.4.1->widgetsnbextension~=3.5.0->ipywidgets) (0.5.1)\n",
      "Requirement already satisfied: packaging in c:\\tools\\miniconda3\\lib\\site-packages (from bleach->nbconvert->notebook>=4.4.1->widgetsnbextension~=3.5.0->ipywidgets) (21.2)\n",
      "Requirement already satisfied: pyparsing<3,>=2.0.2 in c:\\tools\\miniconda3\\lib\\site-packages (from packaging->bleach->nbconvert->notebook>=4.4.1->widgetsnbextension~=3.5.0->ipywidgets) (2.4.7)\n",
      "Note: you may need to restart the kernel to use updated packages.\n",
      "Requirement already satisfied: matplotlib in c:\\tools\\miniconda3\\lib\\site-packages (3.4.3)\n",
      "Requirement already satisfied: numpy>=1.16 in c:\\tools\\miniconda3\\lib\\site-packages (from matplotlib) (1.21.3)\n",
      "Requirement already satisfied: kiwisolver>=1.0.1 in c:\\tools\\miniconda3\\lib\\site-packages (from matplotlib) (1.3.2)\n",
      "Requirement already satisfied: pyparsing>=2.2.1 in c:\\tools\\miniconda3\\lib\\site-packages (from matplotlib) (2.4.7)\n",
      "Requirement already satisfied: python-dateutil>=2.7 in c:\\tools\\miniconda3\\lib\\site-packages (from matplotlib) (2.8.2)\n",
      "Requirement already satisfied: pillow>=6.2.0 in c:\\tools\\miniconda3\\lib\\site-packages (from matplotlib) (8.4.0)\n",
      "Requirement already satisfied: cycler>=0.10 in c:\\tools\\miniconda3\\lib\\site-packages (from matplotlib) (0.11.0)\n",
      "Requirement already satisfied: six>=1.5 in c:\\tools\\miniconda3\\lib\\site-packages (from python-dateutil>=2.7->matplotlib) (1.16.0)\n",
      "Note: you may need to restart the kernel to use updated packages.\n"
     ]
    },
    {
     "name": "stdout",
     "output_type": "stream",
     "text": [
      "Requirement already satisfied: pyarrow in c:\\tools\\miniconda3\\lib\\site-packages (6.0.1)\n",
      "Requirement already satisfied: numpy>=1.16.6 in c:\\tools\\miniconda3\\lib\\site-packages (from pyarrow) (1.21.3)\n",
      "Note: you may need to restart the kernel to use updated packages.\n",
      "Requirement already satisfied: fastparquet in c:\\tools\\miniconda3\\lib\\site-packages (0.7.2)\n",
      "Requirement already satisfied: numpy>=1.18 in c:\\tools\\miniconda3\\lib\\site-packages (from fastparquet) (1.21.3)\n",
      "Requirement already satisfied: cramjam>=2.3.0 in c:\\tools\\miniconda3\\lib\\site-packages (from fastparquet) (2.5.0)\n",
      "Requirement already satisfied: fsspec in c:\\tools\\miniconda3\\lib\\site-packages (from fastparquet) (2021.11.1)\n",
      "Requirement already satisfied: thrift>=0.11.0 in c:\\tools\\miniconda3\\lib\\site-packages (from fastparquet) (0.15.0)\n",
      "Requirement already satisfied: pandas>=1.1.0 in c:\\tools\\miniconda3\\lib\\site-packages (from fastparquet) (1.3.4)\n",
      "Requirement already satisfied: python-dateutil>=2.7.3 in c:\\tools\\miniconda3\\lib\\site-packages (from pandas>=1.1.0->fastparquet) (2.8.2)\n",
      "Requirement already satisfied: pytz>=2017.3 in c:\\tools\\miniconda3\\lib\\site-packages (from pandas>=1.1.0->fastparquet) (2021.3)\n",
      "Requirement already satisfied: six>=1.5 in c:\\tools\\miniconda3\\lib\\site-packages (from python-dateutil>=2.7.3->pandas>=1.1.0->fastparquet) (1.16.0)\n",
      "Note: you may need to restart the kernel to use updated packages.\n"
     ]
    }
   ],
   "source": [
    "%pip install numpy\n",
    "%pip install pandas\n",
    "%pip install pickle\n",
    "%pip install ipywidgets\n",
    "%pip install matplotlib\n",
    "import numpy as np\n",
    "import pandas as pd\n",
    "import pickle\n",
    "from ipywidgets import interact\n",
    "import matplotlib.pyplot as plt\n",
    "%pip install pyarrow\n",
    "%pip install fastparquet"
   ]
  },
  {
   "cell_type": "code",
   "execution_count": 2,
   "id": "dc03831a",
   "metadata": {
    "scrolled": true
   },
   "outputs": [
    {
     "name": "stdout",
     "output_type": "stream",
     "text": [
      "Requirement already satisfied: torch in c:\\tools\\miniconda3\\lib\\site-packages (1.10.0)\n",
      "Requirement already satisfied: typing-extensions in c:\\tools\\miniconda3\\lib\\site-packages (from torch) (3.10.0.2)\n",
      "Note: you may need to restart the kernel to use updated packages.\n"
     ]
    }
   ],
   "source": [
    "%pip install torch"
   ]
  },
  {
   "cell_type": "code",
   "execution_count": 3,
   "id": "314e24a4",
   "metadata": {},
   "outputs": [],
   "source": [
    "#test"
   ]
  },
  {
   "cell_type": "code",
   "execution_count": 4,
   "id": "0d8c7650",
   "metadata": {},
   "outputs": [],
   "source": [
    "df0 = pd.read_parquet('pass0.parquet')\n",
    "df1 = pd.read_parquet('pass1.parquet')"
   ]
  },
  {
   "cell_type": "code",
   "execution_count": 5,
   "id": "24cab6e4",
   "metadata": {},
   "outputs": [
    {
     "name": "stdout",
     "output_type": "stream",
     "text": [
      "['IRI_mean', 'IRI_sequence', 'GM.TS_or_Distance', 'GM.T', 'GM.lat_int', 'GM.lon_int', 'GM.acc.xyz.z', 'GM.acc.xyz.y', 'GM.acc.xyz.x', 'GM.obd.spd_veh.value']\n"
     ]
    },
    {
     "data": {
      "text/html": [
       "<div>\n",
       "<style scoped>\n",
       "    .dataframe tbody tr th:only-of-type {\n",
       "        vertical-align: middle;\n",
       "    }\n",
       "\n",
       "    .dataframe tbody tr th {\n",
       "        vertical-align: top;\n",
       "    }\n",
       "\n",
       "    .dataframe thead th {\n",
       "        text-align: right;\n",
       "    }\n",
       "</style>\n",
       "<table border=\"1\" class=\"dataframe\">\n",
       "  <thead>\n",
       "    <tr style=\"text-align: right;\">\n",
       "      <th></th>\n",
       "      <th>IRI_mean</th>\n",
       "      <th>IRI_sequence</th>\n",
       "      <th>GM.TS_or_Distance</th>\n",
       "      <th>GM.T</th>\n",
       "      <th>GM.lat_int</th>\n",
       "      <th>GM.lon_int</th>\n",
       "      <th>GM.acc.xyz.z</th>\n",
       "      <th>GM.acc.xyz.y</th>\n",
       "      <th>GM.acc.xyz.x</th>\n",
       "      <th>GM.obd.spd_veh.value</th>\n",
       "    </tr>\n",
       "  </thead>\n",
       "  <tbody>\n",
       "    <tr>\n",
       "      <th>0</th>\n",
       "      <td>4.933540</td>\n",
       "      <td>[6.644882798499999, 5.5573473115, 7.666319952,...</td>\n",
       "      <td>[2021-04-22T01:21:54.349000000, 2021-04-22T01:...</td>\n",
       "      <td>[acc.xyz, acc.xyz, acc.xyz, acc.xyz, obd.spd_v...</td>\n",
       "      <td>[55.654713308383236, 55.65471373053892, 55.654...</td>\n",
       "      <td>[12.486686901197604, 12.486686532934131, 12.48...</td>\n",
       "      <td>[0.9727, 0.9727, 0.9727, 0.9727, 0.9922, 0.992...</td>\n",
       "      <td>[-0.1172, -0.1172, -0.1172, -0.1172, -0.1211, ...</td>\n",
       "      <td>[0.1602, 0.1602, 0.1602, 0.1602, 0.1563, 0.156...</td>\n",
       "      <td>[31.04, 31.0, 30.970000000000002, 31.470000000...</td>\n",
       "    </tr>\n",
       "    <tr>\n",
       "      <th>1</th>\n",
       "      <td>4.696225</td>\n",
       "      <td>[5.5573473115, 7.666319952, 4.1605364705, 5.35...</td>\n",
       "      <td>[2021-04-22T01:21:55.068000000, 2021-04-22T01:...</td>\n",
       "      <td>[acc.xyz, acc.xyz, acc.xyz, acc.xyz, acc.xyz, ...</td>\n",
       "      <td>[55.654781462897525, 55.65478160070671, 55.654...</td>\n",
       "      <td>[12.48662899293286, 12.486628876325089, 12.486...</td>\n",
       "      <td>[0.9727, 0.9727, 0.9727, 0.9727, 0.9727, 0.972...</td>\n",
       "      <td>[-0.0898, -0.0898, -0.0898, -0.0898, -0.0898, ...</td>\n",
       "      <td>[0.1406, 0.1406, 0.1406, 0.1406, 0.1406, 0.140...</td>\n",
       "      <td>[29.52, 29.48, 29.42, 29.400000000000002, 29.3...</td>\n",
       "    </tr>\n",
       "    <tr>\n",
       "      <th>2</th>\n",
       "      <td>4.699145</td>\n",
       "      <td>[7.666319952, 4.1605364705, 5.359907053000001,...</td>\n",
       "      <td>[2021-04-22T01:21:56.327000000, 2021-04-22T01:...</td>\n",
       "      <td>[acc.xyz, acc.xyz, acc.xyz, acc.xyz, acc.xyz, ...</td>\n",
       "      <td>[55.654862308917195, 55.65486260509554, 55.654...</td>\n",
       "      <td>[12.486560579617835, 12.486560331210192, 12.48...</td>\n",
       "      <td>[1.0391, 1.0391, 1.0391, 1.0391, 1.0391, 1.015...</td>\n",
       "      <td>[0.0273, 0.0273, 0.0273, 0.0273, 0.0273, 0.011...</td>\n",
       "      <td>[0.1523, 0.1523, 0.1523, 0.1523, 0.1523, 0.160...</td>\n",
       "      <td>[30.080000000000002, 30.14, 30.2, 30.23, 29.54...</td>\n",
       "    </tr>\n",
       "    <tr>\n",
       "      <th>3</th>\n",
       "      <td>4.397566</td>\n",
       "      <td>[4.1605364705, 5.359907053000001, 4.5512844555...</td>\n",
       "      <td>[2021-04-22T01:21:57.983000000, 2021-04-22T01:...</td>\n",
       "      <td>[acc.xyz, acc.xyz, acc.xyz, acc.xyz, acc.xyz, ...</td>\n",
       "      <td>[55.654942544169614, 55.65494265017668, 55.654...</td>\n",
       "      <td>[12.486492964664311, 12.486492879858657, 12.48...</td>\n",
       "      <td>[1.0391, 1.0391, 0.9805, 0.9805, 0.9805, 0.980...</td>\n",
       "      <td>[0.1016, 0.1016, 0.0898, 0.0898, 0.0898, 0.089...</td>\n",
       "      <td>[0.2188, 0.2188, 0.1953, 0.1953, 0.1953, 0.195...</td>\n",
       "      <td>[36.910000000000004, 37.0, 37.07, 37.18, 37.25...</td>\n",
       "    </tr>\n",
       "    <tr>\n",
       "      <th>4</th>\n",
       "      <td>4.400549</td>\n",
       "      <td>[5.359907053000001, 4.5512844555, 5.8527534034...</td>\n",
       "      <td>[2021-04-22T01:21:59.120000000, 2021-04-22T01:...</td>\n",
       "      <td>[obd.spd_veh, acc.xyz, acc.xyz, acc.xyz, acc.x...</td>\n",
       "      <td>[55.65502238338658, 55.65502269329073, 55.6550...</td>\n",
       "      <td>[12.486424923322684, 12.486424661341852, 12.48...</td>\n",
       "      <td>[0.9492, 0.9961, 0.9961, 0.9961, 0.9961, 0.996...</td>\n",
       "      <td>[0.0859, 0.0977, 0.0977, 0.0977, 0.0977, 0.097...</td>\n",
       "      <td>[0.1875, 0.1563, 0.1563, 0.1563, 0.1563, 0.156...</td>\n",
       "      <td>[41.2, 41.27, 41.38, 41.46, 41.53, 40.76, 41.6...</td>\n",
       "    </tr>\n",
       "  </tbody>\n",
       "</table>\n",
       "</div>"
      ],
      "text/plain": [
       "   IRI_mean                                       IRI_sequence  \\\n",
       "0  4.933540  [6.644882798499999, 5.5573473115, 7.666319952,...   \n",
       "1  4.696225  [5.5573473115, 7.666319952, 4.1605364705, 5.35...   \n",
       "2  4.699145  [7.666319952, 4.1605364705, 5.359907053000001,...   \n",
       "3  4.397566  [4.1605364705, 5.359907053000001, 4.5512844555...   \n",
       "4  4.400549  [5.359907053000001, 4.5512844555, 5.8527534034...   \n",
       "\n",
       "                                   GM.TS_or_Distance  \\\n",
       "0  [2021-04-22T01:21:54.349000000, 2021-04-22T01:...   \n",
       "1  [2021-04-22T01:21:55.068000000, 2021-04-22T01:...   \n",
       "2  [2021-04-22T01:21:56.327000000, 2021-04-22T01:...   \n",
       "3  [2021-04-22T01:21:57.983000000, 2021-04-22T01:...   \n",
       "4  [2021-04-22T01:21:59.120000000, 2021-04-22T01:...   \n",
       "\n",
       "                                                GM.T  \\\n",
       "0  [acc.xyz, acc.xyz, acc.xyz, acc.xyz, obd.spd_v...   \n",
       "1  [acc.xyz, acc.xyz, acc.xyz, acc.xyz, acc.xyz, ...   \n",
       "2  [acc.xyz, acc.xyz, acc.xyz, acc.xyz, acc.xyz, ...   \n",
       "3  [acc.xyz, acc.xyz, acc.xyz, acc.xyz, acc.xyz, ...   \n",
       "4  [obd.spd_veh, acc.xyz, acc.xyz, acc.xyz, acc.x...   \n",
       "\n",
       "                                          GM.lat_int  \\\n",
       "0  [55.654713308383236, 55.65471373053892, 55.654...   \n",
       "1  [55.654781462897525, 55.65478160070671, 55.654...   \n",
       "2  [55.654862308917195, 55.65486260509554, 55.654...   \n",
       "3  [55.654942544169614, 55.65494265017668, 55.654...   \n",
       "4  [55.65502238338658, 55.65502269329073, 55.6550...   \n",
       "\n",
       "                                          GM.lon_int  \\\n",
       "0  [12.486686901197604, 12.486686532934131, 12.48...   \n",
       "1  [12.48662899293286, 12.486628876325089, 12.486...   \n",
       "2  [12.486560579617835, 12.486560331210192, 12.48...   \n",
       "3  [12.486492964664311, 12.486492879858657, 12.48...   \n",
       "4  [12.486424923322684, 12.486424661341852, 12.48...   \n",
       "\n",
       "                                        GM.acc.xyz.z  \\\n",
       "0  [0.9727, 0.9727, 0.9727, 0.9727, 0.9922, 0.992...   \n",
       "1  [0.9727, 0.9727, 0.9727, 0.9727, 0.9727, 0.972...   \n",
       "2  [1.0391, 1.0391, 1.0391, 1.0391, 1.0391, 1.015...   \n",
       "3  [1.0391, 1.0391, 0.9805, 0.9805, 0.9805, 0.980...   \n",
       "4  [0.9492, 0.9961, 0.9961, 0.9961, 0.9961, 0.996...   \n",
       "\n",
       "                                        GM.acc.xyz.y  \\\n",
       "0  [-0.1172, -0.1172, -0.1172, -0.1172, -0.1211, ...   \n",
       "1  [-0.0898, -0.0898, -0.0898, -0.0898, -0.0898, ...   \n",
       "2  [0.0273, 0.0273, 0.0273, 0.0273, 0.0273, 0.011...   \n",
       "3  [0.1016, 0.1016, 0.0898, 0.0898, 0.0898, 0.089...   \n",
       "4  [0.0859, 0.0977, 0.0977, 0.0977, 0.0977, 0.097...   \n",
       "\n",
       "                                        GM.acc.xyz.x  \\\n",
       "0  [0.1602, 0.1602, 0.1602, 0.1602, 0.1563, 0.156...   \n",
       "1  [0.1406, 0.1406, 0.1406, 0.1406, 0.1406, 0.140...   \n",
       "2  [0.1523, 0.1523, 0.1523, 0.1523, 0.1523, 0.160...   \n",
       "3  [0.2188, 0.2188, 0.1953, 0.1953, 0.1953, 0.195...   \n",
       "4  [0.1875, 0.1563, 0.1563, 0.1563, 0.1563, 0.156...   \n",
       "\n",
       "                                GM.obd.spd_veh.value  \n",
       "0  [31.04, 31.0, 30.970000000000002, 31.470000000...  \n",
       "1  [29.52, 29.48, 29.42, 29.400000000000002, 29.3...  \n",
       "2  [30.080000000000002, 30.14, 30.2, 30.23, 29.54...  \n",
       "3  [36.910000000000004, 37.0, 37.07, 37.18, 37.25...  \n",
       "4  [41.2, 41.27, 41.38, 41.46, 41.53, 40.76, 41.6...  "
      ]
     },
     "execution_count": 5,
     "metadata": {},
     "output_type": "execute_result"
    }
   ],
   "source": [
    "print(list(df0))\n",
    "df0.head()"
   ]
  },
  {
   "cell_type": "code",
   "execution_count": 6,
   "id": "269a4b82",
   "metadata": {},
   "outputs": [
    {
     "name": "stdout",
     "output_type": "stream",
     "text": [
      "['IRI_mean', 'IRI_sequence', 'GM.TS_or_Distance', 'GM.T', 'GM.lat_int', 'GM.lon_int', 'GM.acc.xyz.z', 'GM.acc.xyz.y', 'GM.acc.xyz.x', 'GM.obd.spd_veh.value']\n"
     ]
    },
    {
     "data": {
      "image/png": "[encoded data removed]",
      "text/plain": [
       "<Figure size 432x288 with 1 Axes>"
      ]
     },
     "metadata": {
      "needs_background": "light"
     },
     "output_type": "display_data"
    },
    {
     "data": {
      "image/png": "[encoded data removed]",
      "text/plain": [
       "<Figure size 432x288 with 1 Axes>"
      ]
     },
     "metadata": {
      "needs_background": "light"
     },
     "output_type": "display_data"
    }
   ],
   "source": [
    "def show(col):\n",
    "    try:\n",
    "        plt.hist(df0[col].map(len), bins=50)\n",
    "        plt.show()\n",
    "        plt.plot(df0.loc[0,col])\n",
    "    except:\n",
    "        ...\n",
    "    \n",
    "print(list(df0))\n",
    "show(\"GM.acc.xyz.z\")\n",
    "# interact(show, col=list(df0));"
   ]
  },
  {
   "cell_type": "code",
   "execution_count": 7,
   "id": "b3821cdb",
   "metadata": {},
   "outputs": [
    {
     "data": {
      "image/png": "[encoded data removed]",
      "text/plain": [
       "<Figure size 432x288 with 2 Axes>"
      ]
     },
     "metadata": {
      "needs_background": "light"
     },
     "output_type": "display_data"
    }
   ],
   "source": [
    "s0 = df0.loc[0]\n",
    "mask = s0['GM.T'] == 'acc.xyz'\n",
    "accT = s0['GM.TS_or_Distance'][mask]\n",
    "accZ = s0['GM.acc.xyz.z']\n",
    "obdT = s0['GM.TS_or_Distance'][~mask]\n",
    "obd = s0['GM.obd.spd_veh.value']\n",
    "\n",
    "# plt.plot(accZ)\n",
    "fig, ax1 = plt.subplots()\n",
    "ax2 = ax1.twinx()\n",
    "ax1.plot(accT, accZ, color='#1f77b4')\n",
    "ax2.plot(obdT, obd, color='#ff7f0e');\n",
    "\n",
    "# weird stuff on the orange curve (?)"
   ]
  },
  {
   "cell_type": "code",
   "execution_count": 8,
   "id": "3a91db86",
   "metadata": {},
   "outputs": [
    {
     "data": {
      "text/plain": [
       "PackedSequence(data=tensor([1, 3, 2, 4, 3]), batch_sizes=tensor([2, 2, 1]), sorted_indices=tensor([0, 1]), unsorted_indices=tensor([0, 1]))"
      ]
     },
     "execution_count": 8,
     "metadata": {},
     "output_type": "execute_result"
    }
   ],
   "source": [
    "import torch\n",
    "\n",
    "def get_packed(xs: [torch.Tensor]) -> \"PackedSequence\":\n",
    "    padded = torch.nn.utils.rnn.pad_sequence(xs, batch_first=True)\n",
    "    packd = torch.nn.utils.rnn.pack_padded_sequence(\n",
    "        padded, batch_first=True, lengths=list(map(len, xs)), enforce_sorted=False)\n",
    "    return packd\n",
    "\n",
    "xs = [torch.tensor([1, 2, 3]), torch.tensor([3, 4])]\n",
    "get_packed(xs)\n",
    "#on peut désormais avoir des trucs de tailles différentes"
   ]
  },
  {
   "cell_type": "code",
   "execution_count": null,
   "id": "62b7e3ea",
   "metadata": {},
   "outputs": [],
   "source": []
  },
  {
   "cell_type": "code",
   "execution_count": 9,
   "id": "875065cd",
   "metadata": {},
   "outputs": [],
   "source": [
    "from torch.utils.data import Dataset\n",
    "\n",
    "class MyDS(Dataset):\n",
    "    def __init__(self, fname, size=None):\n",
    "        df = pd.read_parquet(fname)\n",
    "        zacc: pd.Series = df['GM.acc.xyz.z'] # Series[arr[:]float]\n",
    "        \n",
    "        if not size:\n",
    "            size = zacc.map(len).quantile(.1)\n",
    "            size = (int(size) // 32) * 32\n",
    "        self.sz = size\n",
    "        zacc = zacc[zacc.map(len) >= size]\n",
    "        self.zacc = zacc # still a Series\n",
    "        \n",
    "        # def truncate(arr): #pas besoin de truncate zac pcq on pack les sequences\n",
    "        #    return arr[:size]\n",
    "        # zacc = np.stack(zacc.map(truncate)).astype('float32')\n",
    "        # print(zacc.shape, size)\n",
    "        # self.zacc = zacc\n",
    "        \n",
    "    \n",
    "    def __getitem__(self, idx):\n",
    "        return self.zacc.iloc[idx]\n",
    "        # return self.zacc[idx][None,:]\n",
    "    \n",
    "    def __len__(self):\n",
    "        return len(self.zacc)\n",
    "\n",
    "L = 2048\n",
    "my_data = MyDS('pass0.parquet', 2048)"
   ]
  },
  {
   "cell_type": "code",
   "execution_count": 31,
   "id": "5e4120e6",
   "metadata": {
    "tags": []
   },
   "outputs": [],
   "source": [
    "import torch\n",
    "import torch.nn as nn\n",
    "from torch.nn.utils.rnn import pack_padded_sequence, pad_packed_sequence\n",
    "\n",
    "class RNN_enc(nn.Module):\n",
    "    def __init__(self):\n",
    "        super().__init__()\n",
    "        \n",
    "        # juste 1 c ok ?\n",
    "        self.rnn1 = nn.RNN(input_size=1, hidden_size=5, num_layers=1,\n",
    "               batch_first=True)    \n",
    "        #self.rnn2 = nn.RNN(input_size=5, hidden_size=5, num_layers=1,\n",
    "               #batch_first=True)\n",
    "        #test: try diff params and adding more layers\n",
    "\n",
    "    def forward(self, x):\n",
    "        # print(x)\n",
    "        encoded1, cansr = self.rnn1(x)\n",
    "        #encoded2, cansr2= self.rnn2(encoded1)\n",
    "        # print(encoded)\n",
    "        seq_unpacked, lens_unpacked = pad_packed_sequence(encoded1, batch_first=True)\n",
    "        # print(lens_unpacked)\n",
    "        # print(seq_unpacked)\n",
    "        lens = list(lens_unpacked.numpy())\n",
    "        up = seq_unpacked.detach().numpy()\n",
    "        \n",
    "        last_seq_items = seq_unpacked[torch.arange(len(seq_unpacked)), lens_unpacked-1]\n",
    "        return last_seq_items\n",
    "        \n",
    "class RNN_dec(nn.Module):\n",
    "    def __init__(self):\n",
    "        super().__init__()\n",
    "        self.rnn1 = nn.RNN(input_size=5, hidden_size=1, num_layers=1,\n",
    "               batch_first=True)\n",
    "  \n",
    "    def forward(self, encoded, x): # we are not really cheating i swear\n",
    "        \n",
    "        seq_unpacked, lens_unpacked = pad_packed_sequence(x, batch_first=True)\n",
    "        #print(\"x:\", x)\n",
    "        #print(\"lens_unpackd: \",lens_unpacked)\n",
    "        # #print(\"size lens unpoc:\", lens_unpacked.size())\n",
    "        xs = [encoded[i].repeat(lens_unpacked[i],1) for i in range(len(seq_unpacked))]\n",
    "        decoded,cansr = self.rnn1(get_packed(xs))\n",
    "        return decoded\n",
    "\n",
    "class RNN_AE(nn.Module): #wrapper class for the encoder and decoders above\n",
    "    def __init__(self):\n",
    "        super().__init__()\n",
    "        self.enc = RNN_enc()\n",
    "        self.dec = RNN_dec()\n",
    "        \n",
    "    def forward(self,x):\n",
    "        encoded = self.enc(x)\n",
    "        decoded = self.dec(encoded, x)\n",
    "        return decoded\n",
    "\n",
    "    def get_latent(self,x):\n",
    "        return self.encoded(x)"
   ]
  },
  {
   "cell_type": "code",
   "execution_count": 43,
   "id": "bf612060",
   "metadata": {
    "tags": []
   },
   "outputs": [],
   "source": [
    "import torch\n",
    "import torch.nn as nn \n",
    "\n",
    "class AE_conv(nn.Module):\n",
    "    def __init__(self, L):\n",
    "        super().__init__()\n",
    "        \n",
    "        mid = L // (4*4*4)\n",
    "        assert L % (4*4*4) == 0\n",
    "        \n",
    "        self.encoded = nn.Sequential(\n",
    "            nn.Conv1d(1, 3, 5, padding='same'),\n",
    "            nn.MaxPool1d(4,4),\n",
    "            nn.ReLU(),\n",
    "            nn.Conv1d(3, 3, 5, padding='same'),\n",
    "            nn.MaxPool1d(4,4),\n",
    "            nn.ReLU(),\n",
    "            nn.Conv1d(3, 3, 5, padding='same'),\n",
    "            nn.MaxPool1d(4,4),\n",
    "            nn.ReLU(),\n",
    "            nn.Flatten(),\n",
    "            nn.Linear(mid*3, 10)\n",
    "        )\n",
    "        \n",
    "        self.decoded = nn.Sequential(\n",
    "            nn.Linear(10, 3*mid),\n",
    "            nn.Unflatten(1, (3,mid)),\n",
    "            nn.ReLU(),\n",
    "            nn.Upsample(scale_factor=4),\n",
    "            nn.Conv1d(3, 3, 5, padding='same'),\n",
    "            nn.ReLU(),\n",
    "            nn.Upsample(scale_factor=4),\n",
    "            nn.Conv1d(3, 3, 5, padding='same'),\n",
    "            nn.ReLU(),\n",
    "            nn.Upsample(scale_factor=4),\n",
    "            nn.Conv1d(3, 1, 5, padding='same'),\n",
    "        )\n",
    "\n",
    "    def forward(self, x):\n",
    "        encoded = self.encoded(x)\n",
    "        print(\"Encoded Shape :\", encoded.shape)\n",
    "        decoded = self.decoded(encoded)\n",
    "        return decoded\n",
    "            \n",
    "    def get_latent(self,x):\n",
    "        return self.encoded(x)"
   ]
  },
  {
   "cell_type": "code",
   "execution_count": 44,
   "id": "80701ee4",
   "metadata": {
    "jupyter": {
     "outputs_hidden": true
    },
    "tags": []
   },
   "outputs": [
    {
     "ename": "TypeError",
     "evalue": "conv1d() received an invalid combination of arguments - got (PackedSequence, Parameter, Parameter, tuple, str, tuple, int), but expected one of:\n * (Tensor input, Tensor weight, Tensor bias, tuple of ints stride, tuple of ints padding, tuple of ints dilation, int groups)\n      didn't match because some of the arguments have invalid types: (\u001b[31;1mPackedSequence\u001b[0m, \u001b[31;1mParameter\u001b[0m, \u001b[31;1mParameter\u001b[0m, \u001b[31;1mtuple\u001b[0m, \u001b[31;1mstr\u001b[0m, \u001b[31;1mtuple\u001b[0m, \u001b[32;1mint\u001b[0m)\n * (Tensor input, Tensor weight, Tensor bias, tuple of ints stride, str padding, tuple of ints dilation, int groups)\n      didn't match because some of the arguments have invalid types: (\u001b[31;1mPackedSequence\u001b[0m, \u001b[31;1mParameter\u001b[0m, \u001b[31;1mParameter\u001b[0m, \u001b[31;1mtuple\u001b[0m, \u001b[32;1mstr\u001b[0m, \u001b[31;1mtuple\u001b[0m, \u001b[32;1mint\u001b[0m)\n",
     "output_type": "error",
     "traceback": [
      "\u001b[1;31m---------------------------------------------------------------------------\u001b[0m",
      "\u001b[1;31mTypeError\u001b[0m                                 Traceback (most recent call last)",
      "\u001b[1;32m~\\AppData\\Local\\Temp/ipykernel_2180/3959819088.py\u001b[0m in \u001b[0;36m<module>\u001b[1;34m\u001b[0m\n\u001b[0;32m     14\u001b[0m \u001b[1;33m\u001b[0m\u001b[0m\n\u001b[0;32m     15\u001b[0m \u001b[1;32mfor\u001b[0m \u001b[0mx\u001b[0m \u001b[1;32min\u001b[0m \u001b[0mdataloader\u001b[0m\u001b[1;33m:\u001b[0m\u001b[1;33m\u001b[0m\u001b[1;33m\u001b[0m\u001b[0m\n\u001b[1;32m---> 16\u001b[1;33m     \u001b[0mpred\u001b[0m \u001b[1;33m=\u001b[0m \u001b[0mmodel\u001b[0m\u001b[1;33m(\u001b[0m\u001b[0mx\u001b[0m\u001b[1;33m)\u001b[0m\u001b[1;33m\u001b[0m\u001b[1;33m\u001b[0m\u001b[0m\n\u001b[0m\u001b[0;32m     17\u001b[0m     \u001b[0mloss\u001b[0m \u001b[1;33m=\u001b[0m \u001b[0mloss_fn\u001b[0m\u001b[1;33m(\u001b[0m\u001b[0mpred\u001b[0m\u001b[1;33m.\u001b[0m\u001b[0mdata\u001b[0m\u001b[1;33m,\u001b[0m \u001b[0mx\u001b[0m\u001b[1;33m.\u001b[0m\u001b[0mdata\u001b[0m\u001b[1;33m)\u001b[0m \u001b[1;31m#packedsequences\u001b[0m\u001b[1;33m\u001b[0m\u001b[1;33m\u001b[0m\u001b[0m\n\u001b[0;32m     18\u001b[0m \u001b[1;33m\u001b[0m\u001b[0m\n",
      "\u001b[1;32mC:\\tools\\miniconda3\\lib\\site-packages\\torch\\nn\\modules\\module.py\u001b[0m in \u001b[0;36m_call_impl\u001b[1;34m(self, *input, **kwargs)\u001b[0m\n\u001b[0;32m   1100\u001b[0m         if not (self._backward_hooks or self._forward_hooks or self._forward_pre_hooks or _global_backward_hooks\n\u001b[0;32m   1101\u001b[0m                 or _global_forward_hooks or _global_forward_pre_hooks):\n\u001b[1;32m-> 1102\u001b[1;33m             \u001b[1;32mreturn\u001b[0m \u001b[0mforward_call\u001b[0m\u001b[1;33m(\u001b[0m\u001b[1;33m*\u001b[0m\u001b[0minput\u001b[0m\u001b[1;33m,\u001b[0m \u001b[1;33m**\u001b[0m\u001b[0mkwargs\u001b[0m\u001b[1;33m)\u001b[0m\u001b[1;33m\u001b[0m\u001b[1;33m\u001b[0m\u001b[0m\n\u001b[0m\u001b[0;32m   1103\u001b[0m         \u001b[1;31m# Do not call functions when jit is used\u001b[0m\u001b[1;33m\u001b[0m\u001b[1;33m\u001b[0m\u001b[1;33m\u001b[0m\u001b[0m\n\u001b[0;32m   1104\u001b[0m         \u001b[0mfull_backward_hooks\u001b[0m\u001b[1;33m,\u001b[0m \u001b[0mnon_full_backward_hooks\u001b[0m \u001b[1;33m=\u001b[0m \u001b[1;33m[\u001b[0m\u001b[1;33m]\u001b[0m\u001b[1;33m,\u001b[0m \u001b[1;33m[\u001b[0m\u001b[1;33m]\u001b[0m\u001b[1;33m\u001b[0m\u001b[1;33m\u001b[0m\u001b[0m\n",
      "\u001b[1;32m~\\AppData\\Local\\Temp/ipykernel_2180/2292188798.py\u001b[0m in \u001b[0;36mforward\u001b[1;34m(self, x)\u001b[0m\n\u001b[0;32m     38\u001b[0m \u001b[1;33m\u001b[0m\u001b[0m\n\u001b[0;32m     39\u001b[0m     \u001b[1;32mdef\u001b[0m \u001b[0mforward\u001b[0m\u001b[1;33m(\u001b[0m\u001b[0mself\u001b[0m\u001b[1;33m,\u001b[0m \u001b[0mx\u001b[0m\u001b[1;33m)\u001b[0m\u001b[1;33m:\u001b[0m\u001b[1;33m\u001b[0m\u001b[1;33m\u001b[0m\u001b[0m\n\u001b[1;32m---> 40\u001b[1;33m         \u001b[0mencoded\u001b[0m \u001b[1;33m=\u001b[0m \u001b[0mself\u001b[0m\u001b[1;33m.\u001b[0m\u001b[0mencoded\u001b[0m\u001b[1;33m(\u001b[0m\u001b[0mx\u001b[0m\u001b[1;33m)\u001b[0m\u001b[1;33m\u001b[0m\u001b[1;33m\u001b[0m\u001b[0m\n\u001b[0m\u001b[0;32m     41\u001b[0m         \u001b[0mprint\u001b[0m\u001b[1;33m(\u001b[0m\u001b[1;34m\"Encoded Shape :\"\u001b[0m\u001b[1;33m,\u001b[0m \u001b[0mencoded\u001b[0m\u001b[1;33m.\u001b[0m\u001b[0mshape\u001b[0m\u001b[1;33m)\u001b[0m\u001b[1;33m\u001b[0m\u001b[1;33m\u001b[0m\u001b[0m\n\u001b[0;32m     42\u001b[0m         \u001b[0mdecoded\u001b[0m \u001b[1;33m=\u001b[0m \u001b[0mself\u001b[0m\u001b[1;33m.\u001b[0m\u001b[0mdecoded\u001b[0m\u001b[1;33m(\u001b[0m\u001b[0mencoded\u001b[0m\u001b[1;33m)\u001b[0m\u001b[1;33m\u001b[0m\u001b[1;33m\u001b[0m\u001b[0m\n",
      "\u001b[1;32mC:\\tools\\miniconda3\\lib\\site-packages\\torch\\nn\\modules\\module.py\u001b[0m in \u001b[0;36m_call_impl\u001b[1;34m(self, *input, **kwargs)\u001b[0m\n\u001b[0;32m   1100\u001b[0m         if not (self._backward_hooks or self._forward_hooks or self._forward_pre_hooks or _global_backward_hooks\n\u001b[0;32m   1101\u001b[0m                 or _global_forward_hooks or _global_forward_pre_hooks):\n\u001b[1;32m-> 1102\u001b[1;33m             \u001b[1;32mreturn\u001b[0m \u001b[0mforward_call\u001b[0m\u001b[1;33m(\u001b[0m\u001b[1;33m*\u001b[0m\u001b[0minput\u001b[0m\u001b[1;33m,\u001b[0m \u001b[1;33m**\u001b[0m\u001b[0mkwargs\u001b[0m\u001b[1;33m)\u001b[0m\u001b[1;33m\u001b[0m\u001b[1;33m\u001b[0m\u001b[0m\n\u001b[0m\u001b[0;32m   1103\u001b[0m         \u001b[1;31m# Do not call functions when jit is used\u001b[0m\u001b[1;33m\u001b[0m\u001b[1;33m\u001b[0m\u001b[1;33m\u001b[0m\u001b[0m\n\u001b[0;32m   1104\u001b[0m         \u001b[0mfull_backward_hooks\u001b[0m\u001b[1;33m,\u001b[0m \u001b[0mnon_full_backward_hooks\u001b[0m \u001b[1;33m=\u001b[0m \u001b[1;33m[\u001b[0m\u001b[1;33m]\u001b[0m\u001b[1;33m,\u001b[0m \u001b[1;33m[\u001b[0m\u001b[1;33m]\u001b[0m\u001b[1;33m\u001b[0m\u001b[1;33m\u001b[0m\u001b[0m\n",
      "\u001b[1;32mC:\\tools\\miniconda3\\lib\\site-packages\\torch\\nn\\modules\\container.py\u001b[0m in \u001b[0;36mforward\u001b[1;34m(self, input)\u001b[0m\n\u001b[0;32m    139\u001b[0m     \u001b[1;32mdef\u001b[0m \u001b[0mforward\u001b[0m\u001b[1;33m(\u001b[0m\u001b[0mself\u001b[0m\u001b[1;33m,\u001b[0m \u001b[0minput\u001b[0m\u001b[1;33m)\u001b[0m\u001b[1;33m:\u001b[0m\u001b[1;33m\u001b[0m\u001b[1;33m\u001b[0m\u001b[0m\n\u001b[0;32m    140\u001b[0m         \u001b[1;32mfor\u001b[0m \u001b[0mmodule\u001b[0m \u001b[1;32min\u001b[0m \u001b[0mself\u001b[0m\u001b[1;33m:\u001b[0m\u001b[1;33m\u001b[0m\u001b[1;33m\u001b[0m\u001b[0m\n\u001b[1;32m--> 141\u001b[1;33m             \u001b[0minput\u001b[0m \u001b[1;33m=\u001b[0m \u001b[0mmodule\u001b[0m\u001b[1;33m(\u001b[0m\u001b[0minput\u001b[0m\u001b[1;33m)\u001b[0m\u001b[1;33m\u001b[0m\u001b[1;33m\u001b[0m\u001b[0m\n\u001b[0m\u001b[0;32m    142\u001b[0m         \u001b[1;32mreturn\u001b[0m \u001b[0minput\u001b[0m\u001b[1;33m\u001b[0m\u001b[1;33m\u001b[0m\u001b[0m\n\u001b[0;32m    143\u001b[0m \u001b[1;33m\u001b[0m\u001b[0m\n",
      "\u001b[1;32mC:\\tools\\miniconda3\\lib\\site-packages\\torch\\nn\\modules\\module.py\u001b[0m in \u001b[0;36m_call_impl\u001b[1;34m(self, *input, **kwargs)\u001b[0m\n\u001b[0;32m   1100\u001b[0m         if not (self._backward_hooks or self._forward_hooks or self._forward_pre_hooks or _global_backward_hooks\n\u001b[0;32m   1101\u001b[0m                 or _global_forward_hooks or _global_forward_pre_hooks):\n\u001b[1;32m-> 1102\u001b[1;33m             \u001b[1;32mreturn\u001b[0m \u001b[0mforward_call\u001b[0m\u001b[1;33m(\u001b[0m\u001b[1;33m*\u001b[0m\u001b[0minput\u001b[0m\u001b[1;33m,\u001b[0m \u001b[1;33m**\u001b[0m\u001b[0mkwargs\u001b[0m\u001b[1;33m)\u001b[0m\u001b[1;33m\u001b[0m\u001b[1;33m\u001b[0m\u001b[0m\n\u001b[0m\u001b[0;32m   1103\u001b[0m         \u001b[1;31m# Do not call functions when jit is used\u001b[0m\u001b[1;33m\u001b[0m\u001b[1;33m\u001b[0m\u001b[1;33m\u001b[0m\u001b[0m\n\u001b[0;32m   1104\u001b[0m         \u001b[0mfull_backward_hooks\u001b[0m\u001b[1;33m,\u001b[0m \u001b[0mnon_full_backward_hooks\u001b[0m \u001b[1;33m=\u001b[0m \u001b[1;33m[\u001b[0m\u001b[1;33m]\u001b[0m\u001b[1;33m,\u001b[0m \u001b[1;33m[\u001b[0m\u001b[1;33m]\u001b[0m\u001b[1;33m\u001b[0m\u001b[1;33m\u001b[0m\u001b[0m\n",
      "\u001b[1;32mC:\\tools\\miniconda3\\lib\\site-packages\\torch\\nn\\modules\\conv.py\u001b[0m in \u001b[0;36mforward\u001b[1;34m(self, input)\u001b[0m\n\u001b[0;32m    299\u001b[0m \u001b[1;33m\u001b[0m\u001b[0m\n\u001b[0;32m    300\u001b[0m     \u001b[1;32mdef\u001b[0m \u001b[0mforward\u001b[0m\u001b[1;33m(\u001b[0m\u001b[0mself\u001b[0m\u001b[1;33m,\u001b[0m \u001b[0minput\u001b[0m\u001b[1;33m:\u001b[0m \u001b[0mTensor\u001b[0m\u001b[1;33m)\u001b[0m \u001b[1;33m->\u001b[0m \u001b[0mTensor\u001b[0m\u001b[1;33m:\u001b[0m\u001b[1;33m\u001b[0m\u001b[1;33m\u001b[0m\u001b[0m\n\u001b[1;32m--> 301\u001b[1;33m         \u001b[1;32mreturn\u001b[0m \u001b[0mself\u001b[0m\u001b[1;33m.\u001b[0m\u001b[0m_conv_forward\u001b[0m\u001b[1;33m(\u001b[0m\u001b[0minput\u001b[0m\u001b[1;33m,\u001b[0m \u001b[0mself\u001b[0m\u001b[1;33m.\u001b[0m\u001b[0mweight\u001b[0m\u001b[1;33m,\u001b[0m \u001b[0mself\u001b[0m\u001b[1;33m.\u001b[0m\u001b[0mbias\u001b[0m\u001b[1;33m)\u001b[0m\u001b[1;33m\u001b[0m\u001b[1;33m\u001b[0m\u001b[0m\n\u001b[0m\u001b[0;32m    302\u001b[0m \u001b[1;33m\u001b[0m\u001b[0m\n\u001b[0;32m    303\u001b[0m \u001b[1;33m\u001b[0m\u001b[0m\n",
      "\u001b[1;32mC:\\tools\\miniconda3\\lib\\site-packages\\torch\\nn\\modules\\conv.py\u001b[0m in \u001b[0;36m_conv_forward\u001b[1;34m(self, input, weight, bias)\u001b[0m\n\u001b[0;32m    295\u001b[0m                             \u001b[0mweight\u001b[0m\u001b[1;33m,\u001b[0m \u001b[0mbias\u001b[0m\u001b[1;33m,\u001b[0m \u001b[0mself\u001b[0m\u001b[1;33m.\u001b[0m\u001b[0mstride\u001b[0m\u001b[1;33m,\u001b[0m\u001b[1;33m\u001b[0m\u001b[1;33m\u001b[0m\u001b[0m\n\u001b[0;32m    296\u001b[0m                             _single(0), self.dilation, self.groups)\n\u001b[1;32m--> 297\u001b[1;33m         return F.conv1d(input, weight, bias, self.stride,\n\u001b[0m\u001b[0;32m    298\u001b[0m                         self.padding, self.dilation, self.groups)\n\u001b[0;32m    299\u001b[0m \u001b[1;33m\u001b[0m\u001b[0m\n",
      "\u001b[1;31mTypeError\u001b[0m: conv1d() received an invalid combination of arguments - got (PackedSequence, Parameter, Parameter, tuple, str, tuple, int), but expected one of:\n * (Tensor input, Tensor weight, Tensor bias, tuple of ints stride, tuple of ints padding, tuple of ints dilation, int groups)\n      didn't match because some of the arguments have invalid types: (\u001b[31;1mPackedSequence\u001b[0m, \u001b[31;1mParameter\u001b[0m, \u001b[31;1mParameter\u001b[0m, \u001b[31;1mtuple\u001b[0m, \u001b[31;1mstr\u001b[0m, \u001b[31;1mtuple\u001b[0m, \u001b[32;1mint\u001b[0m)\n * (Tensor input, Tensor weight, Tensor bias, tuple of ints stride, str padding, tuple of ints dilation, int groups)\n      didn't match because some of the arguments have invalid types: (\u001b[31;1mPackedSequence\u001b[0m, \u001b[31;1mParameter\u001b[0m, \u001b[31;1mParameter\u001b[0m, \u001b[31;1mtuple\u001b[0m, \u001b[32;1mstr\u001b[0m, \u001b[31;1mtuple\u001b[0m, \u001b[32;1mint\u001b[0m)\n"
     ]
    }
   ],
   "source": [
    "from torch.utils.data import DataLoader\n",
    "\n",
    "def collate(batch):\n",
    "    batch = [torch.tensor(x, dtype=torch.float32).view(-1,1) for x in batch]\n",
    "    return get_packed(batch)\n",
    "dataloader = DataLoader(my_data, batch_size=8, shuffle=True,\n",
    "                       collate_fn=collate)\n",
    "model = RNN_AE()\n",
    "#model = AE_conv(L)\n",
    "loss_fn = nn.MSELoss()\n",
    "optimizer = torch.optim.SGD(model.parameters(), lr=1e-3)\n",
    "\n",
    "loss_array = []\n",
    "\n",
    "for x in dataloader:\n",
    "    pred = model(x)\n",
    "    loss = loss_fn(pred.data, x.data) #packedsequences\n",
    "    \n",
    "    optimizer.zero_grad()\n",
    "    loss.backward()\n",
    "    optimizer.step()\n",
    "    loss_array.append(float(loss))\n",
    "    print(float(loss))"
   ]
  },
  {
   "cell_type": "code",
   "execution_count": 39,
   "id": "e450b5b6",
   "metadata": {},
   "outputs": [
    {
     "data": {
      "image/png": "[encoded data removed]",
      "text/plain": [
       "<Figure size 432x288 with 1 Axes>"
      ]
     },
     "metadata": {
      "needs_background": "light"
     },
     "output_type": "display_data"
    }
   ],
   "source": [
    "steps_plot = np.arange(0,len(loss_array),1)\n",
    "\n",
    "plt.plot(steps_plot,loss_array)\n",
    "plt.show()"
   ]
  },
  {
   "cell_type": "code",
   "execution_count": 24,
   "id": "4da3fe14",
   "metadata": {},
   "outputs": [],
   "source": [
    "def visualization(x,display = True):\n",
    "    tsne = TSNE(n_components=2, n_iter=3000, )\n",
    "    vis = tsne.fit_transform(x)\n",
    "    if display:\n",
    "        fig, ax = plt.subplots()\n",
    "        ax.scatter(*vis.T)\n",
    "        plt.show()\n",
    "        #df_subset['tsne-2d-one'] = tsne_results[:,0]\n",
    "        #df_subset['tsne-2d-two'] = tsne_results[:,1]\n",
    "        #plt.figure(figsize=(16,10))\n",
    "        #sns.scatterplot(\n",
    "        #x=\"tsne-2d-one\", y=\"tsne-2d-two\",\n",
    "        #hue=\"y\",\n",
    "        #palette=sns.color_palette(\"hls\", 10),\n",
    "        #data=df_subset,\n",
    "        #legend=\"full\",\n",
    "        #alpha=0.3)\n",
    "    else:\n",
    "        return vis"
   ]
  },
  {
   "cell_type": "code",
   "execution_count": 25,
   "id": "28b2f49c",
   "metadata": {},
   "outputs": [
    {
     "ename": "AttributeError",
     "evalue": "'RNN_AE' object has no attribute 'encoded'",
     "output_type": "error",
     "traceback": [
      "\u001b[1;31m---------------------------------------------------------------------------\u001b[0m",
      "\u001b[1;31mAttributeError\u001b[0m                            Traceback (most recent call last)",
      "\u001b[1;32m~\\AppData\\Local\\Temp/ipykernel_2180/2310264582.py\u001b[0m in \u001b[0;36m<module>\u001b[1;34m\u001b[0m\n\u001b[0;32m      2\u001b[0m \u001b[1;33m\u001b[0m\u001b[0m\n\u001b[0;32m      3\u001b[0m \u001b[1;32mfor\u001b[0m \u001b[0mx\u001b[0m \u001b[1;32min\u001b[0m \u001b[0mdataloader\u001b[0m\u001b[1;33m:\u001b[0m\u001b[1;33m\u001b[0m\u001b[1;33m\u001b[0m\u001b[0m\n\u001b[1;32m----> 4\u001b[1;33m     \u001b[0mlatent\u001b[0m\u001b[1;33m.\u001b[0m\u001b[0mappend\u001b[0m\u001b[1;33m(\u001b[0m\u001b[0mmodel\u001b[0m\u001b[1;33m.\u001b[0m\u001b[0mget_latent\u001b[0m\u001b[1;33m(\u001b[0m\u001b[0mx\u001b[0m\u001b[1;33m)\u001b[0m\u001b[1;33m.\u001b[0m\u001b[0mdetach\u001b[0m\u001b[1;33m(\u001b[0m\u001b[1;33m)\u001b[0m\u001b[1;33m.\u001b[0m\u001b[0mnumpy\u001b[0m\u001b[1;33m(\u001b[0m\u001b[1;33m)\u001b[0m\u001b[1;33m[\u001b[0m\u001b[1;36m0\u001b[0m\u001b[1;33m]\u001b[0m\u001b[1;33m)\u001b[0m\u001b[1;33m\u001b[0m\u001b[1;33m\u001b[0m\u001b[0m\n\u001b[0m\u001b[0;32m      5\u001b[0m \u001b[0mvisualization\u001b[0m\u001b[1;33m(\u001b[0m\u001b[0mlatent\u001b[0m\u001b[1;33m)\u001b[0m\u001b[1;33m\u001b[0m\u001b[1;33m\u001b[0m\u001b[0m\n",
      "\u001b[1;32m~\\AppData\\Local\\Temp/ipykernel_2180/926190925.py\u001b[0m in \u001b[0;36mget_latent\u001b[1;34m(self, x)\u001b[0m\n\u001b[0;32m     56\u001b[0m \u001b[1;33m\u001b[0m\u001b[0m\n\u001b[0;32m     57\u001b[0m     \u001b[1;32mdef\u001b[0m \u001b[0mget_latent\u001b[0m\u001b[1;33m(\u001b[0m\u001b[0mself\u001b[0m\u001b[1;33m,\u001b[0m\u001b[0mx\u001b[0m\u001b[1;33m)\u001b[0m\u001b[1;33m:\u001b[0m\u001b[1;33m\u001b[0m\u001b[1;33m\u001b[0m\u001b[0m\n\u001b[1;32m---> 58\u001b[1;33m         \u001b[1;32mreturn\u001b[0m \u001b[0mself\u001b[0m\u001b[1;33m.\u001b[0m\u001b[0mencoded\u001b[0m\u001b[1;33m(\u001b[0m\u001b[0mx\u001b[0m\u001b[1;33m)\u001b[0m\u001b[1;33m\u001b[0m\u001b[1;33m\u001b[0m\u001b[0m\n\u001b[0m",
      "\u001b[1;32mC:\\tools\\miniconda3\\lib\\site-packages\\torch\\nn\\modules\\module.py\u001b[0m in \u001b[0;36m__getattr__\u001b[1;34m(self, name)\u001b[0m\n\u001b[0;32m   1175\u001b[0m             \u001b[1;32mif\u001b[0m \u001b[0mname\u001b[0m \u001b[1;32min\u001b[0m \u001b[0mmodules\u001b[0m\u001b[1;33m:\u001b[0m\u001b[1;33m\u001b[0m\u001b[1;33m\u001b[0m\u001b[0m\n\u001b[0;32m   1176\u001b[0m                 \u001b[1;32mreturn\u001b[0m \u001b[0mmodules\u001b[0m\u001b[1;33m[\u001b[0m\u001b[0mname\u001b[0m\u001b[1;33m]\u001b[0m\u001b[1;33m\u001b[0m\u001b[1;33m\u001b[0m\u001b[0m\n\u001b[1;32m-> 1177\u001b[1;33m         raise AttributeError(\"'{}' object has no attribute '{}'\".format(\n\u001b[0m\u001b[0;32m   1178\u001b[0m             type(self).__name__, name))\n\u001b[0;32m   1179\u001b[0m \u001b[1;33m\u001b[0m\u001b[0m\n",
      "\u001b[1;31mAttributeError\u001b[0m: 'RNN_AE' object has no attribute 'encoded'"
     ]
    }
   ],
   "source": [
    "latent = []\n",
    "\n",
    "for x in dataloader:\n",
    "    latent.append(model.get_latent(x).detach().numpy()[0])\n",
    "visualization(latent)\n"
   ]
  },
  {
   "cell_type": "code",
   "execution_count": null,
   "id": "9c6c383e",
   "metadata": {},
   "outputs": [],
   "source": [
    "# TODO :\n",
    "# once model is trained, call pytorch model.dont_train (-> in pytorch no_grad=True)\n",
    "with torch.no_grad():\n",
    "    latent = model.get_latent(x).numpy()\n",
    "embed = sklearn.chungus.TSNE().fit_transform(latent)\n",
    "# plt.scatter(*embed.T)\n",
    "# latent: np.array, run some sort of regression on (ex logistic or linear for discrimination)\n",
    "#or small neural net again\n",
    "\n"
   ]
  },
  {
   "cell_type": "code",
   "execution_count": null,
   "id": "22411388",
   "metadata": {},
   "outputs": [],
   "source": []
  },
  {
   "cell_type": "code",
   "execution_count": null,
   "id": "99bd1f9a",
   "metadata": {},
   "outputs": [],
   "source": []
  }
 ],
 "metadata": {
  "kernelspec": {
   "display_name": "Python 3 (ipykernel)",
   "language": "python",
   "name": "python3"
  },
  "language_info": {
   "codemirror_mode": {
    "name": "ipython",
    "version": 3
   },
   "file_extension": ".py",
   "mimetype": "text/x-python",
   "name": "python",
   "nbconvert_exporter": "python",
   "pygments_lexer": "ipython3",
   "version": "3.8.11"
  }
 },
 "nbformat": 4,
 "nbformat_minor": 5
}
