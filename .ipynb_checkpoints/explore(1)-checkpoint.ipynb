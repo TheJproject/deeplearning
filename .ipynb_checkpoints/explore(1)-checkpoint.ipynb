{
 "cells": [
  {
   "cell_type": "code",
   "execution_count": 13,
   "metadata": {},
   "outputs": [],
   "source": [
    "#%pip install numpy\n",
    "#%pip install pandas\n",
    "#%pip install pickle\n",
    "#%pip install ipywidgets\n",
    "#%pip install matplotlib\n",
    "import numpy as np\n",
    "import pandas as pd\n",
    "import pickle\n",
    "from ipywidgets import interact\n",
    "import matplotlib.pyplot as plt\n",
    "#%pip install pyarrow\n",
    "#%pip install fastparquet"
   ]
  },
  {
   "cell_type": "code",
   "execution_count": 14,
   "metadata": {
    "scrolled": true
   },
   "outputs": [],
   "source": [
    "#%pip install torch"
   ]
  },
  {
   "cell_type": "code",
   "execution_count": 15,
   "metadata": {},
   "outputs": [],
   "source": [
    "#test"
   ]
  },
  {
   "cell_type": "code",
   "execution_count": 16,
   "metadata": {},
   "outputs": [],
   "source": [
    "df0 = pd.read_parquet('pass0.parquet')\n",
    "df1 = pd.read_parquet('pass1.parquet')"
   ]
  },
  {
   "cell_type": "code",
   "execution_count": 17,
   "metadata": {},
   "outputs": [
    {
     "name": "stdout",
     "output_type": "stream",
     "text": [
      "['IRI_mean', 'IRI_sequence', 'GM.TS_or_Distance', 'GM.T', 'GM.lat_int', 'GM.lon_int', 'GM.acc.xyz.z', 'GM.acc.xyz.y', 'GM.acc.xyz.x', 'GM.obd.spd_veh.value']\n"
     ]
    },
    {
     "data": {
      "text/html": [
       "<div>\n",
       "<style scoped>\n",
       "    .dataframe tbody tr th:only-of-type {\n",
       "        vertical-align: middle;\n",
       "    }\n",
       "\n",
       "    .dataframe tbody tr th {\n",
       "        vertical-align: top;\n",
       "    }\n",
       "\n",
       "    .dataframe thead th {\n",
       "        text-align: right;\n",
       "    }\n",
       "</style>\n",
       "<table border=\"1\" class=\"dataframe\">\n",
       "  <thead>\n",
       "    <tr style=\"text-align: right;\">\n",
       "      <th></th>\n",
       "      <th>IRI_mean</th>\n",
       "      <th>IRI_sequence</th>\n",
       "      <th>GM.TS_or_Distance</th>\n",
       "      <th>GM.T</th>\n",
       "      <th>GM.lat_int</th>\n",
       "      <th>GM.lon_int</th>\n",
       "      <th>GM.acc.xyz.z</th>\n",
       "      <th>GM.acc.xyz.y</th>\n",
       "      <th>GM.acc.xyz.x</th>\n",
       "      <th>GM.obd.spd_veh.value</th>\n",
       "    </tr>\n",
       "  </thead>\n",
       "  <tbody>\n",
       "    <tr>\n",
       "      <th>0</th>\n",
       "      <td>4.933540</td>\n",
       "      <td>[6.644882798499999, 5.5573473115, 7.666319952,...</td>\n",
       "      <td>[2021-04-22T01:21:54.349000000, 2021-04-22T01:...</td>\n",
       "      <td>[acc.xyz, acc.xyz, acc.xyz, acc.xyz, obd.spd_v...</td>\n",
       "      <td>[55.654713308383236, 55.65471373053892, 55.654...</td>\n",
       "      <td>[12.486686901197604, 12.486686532934131, 12.48...</td>\n",
       "      <td>[0.9727, 0.9727, 0.9727, 0.9727, 0.9922, 0.992...</td>\n",
       "      <td>[-0.1172, -0.1172, -0.1172, -0.1172, -0.1211, ...</td>\n",
       "      <td>[0.1602, 0.1602, 0.1602, 0.1602, 0.1563, 0.156...</td>\n",
       "      <td>[31.04, 31.0, 30.970000000000002, 31.470000000...</td>\n",
       "    </tr>\n",
       "    <tr>\n",
       "      <th>1</th>\n",
       "      <td>4.696225</td>\n",
       "      <td>[5.5573473115, 7.666319952, 4.1605364705, 5.35...</td>\n",
       "      <td>[2021-04-22T01:21:55.068000000, 2021-04-22T01:...</td>\n",
       "      <td>[acc.xyz, acc.xyz, acc.xyz, acc.xyz, acc.xyz, ...</td>\n",
       "      <td>[55.654781462897525, 55.65478160070671, 55.654...</td>\n",
       "      <td>[12.48662899293286, 12.486628876325089, 12.486...</td>\n",
       "      <td>[0.9727, 0.9727, 0.9727, 0.9727, 0.9727, 0.972...</td>\n",
       "      <td>[-0.0898, -0.0898, -0.0898, -0.0898, -0.0898, ...</td>\n",
       "      <td>[0.1406, 0.1406, 0.1406, 0.1406, 0.1406, 0.140...</td>\n",
       "      <td>[29.52, 29.48, 29.42, 29.400000000000002, 29.3...</td>\n",
       "    </tr>\n",
       "    <tr>\n",
       "      <th>2</th>\n",
       "      <td>4.699145</td>\n",
       "      <td>[7.666319952, 4.1605364705, 5.359907053000001,...</td>\n",
       "      <td>[2021-04-22T01:21:56.327000000, 2021-04-22T01:...</td>\n",
       "      <td>[acc.xyz, acc.xyz, acc.xyz, acc.xyz, acc.xyz, ...</td>\n",
       "      <td>[55.654862308917195, 55.65486260509554, 55.654...</td>\n",
       "      <td>[12.486560579617835, 12.486560331210192, 12.48...</td>\n",
       "      <td>[1.0391, 1.0391, 1.0391, 1.0391, 1.0391, 1.015...</td>\n",
       "      <td>[0.0273, 0.0273, 0.0273, 0.0273, 0.0273, 0.011...</td>\n",
       "      <td>[0.1523, 0.1523, 0.1523, 0.1523, 0.1523, 0.160...</td>\n",
       "      <td>[30.080000000000002, 30.14, 30.2, 30.23, 29.54...</td>\n",
       "    </tr>\n",
       "    <tr>\n",
       "      <th>3</th>\n",
       "      <td>4.397566</td>\n",
       "      <td>[4.1605364705, 5.359907053000001, 4.5512844555...</td>\n",
       "      <td>[2021-04-22T01:21:57.983000000, 2021-04-22T01:...</td>\n",
       "      <td>[acc.xyz, acc.xyz, acc.xyz, acc.xyz, acc.xyz, ...</td>\n",
       "      <td>[55.654942544169614, 55.65494265017668, 55.654...</td>\n",
       "      <td>[12.486492964664311, 12.486492879858657, 12.48...</td>\n",
       "      <td>[1.0391, 1.0391, 0.9805, 0.9805, 0.9805, 0.980...</td>\n",
       "      <td>[0.1016, 0.1016, 0.0898, 0.0898, 0.0898, 0.089...</td>\n",
       "      <td>[0.2188, 0.2188, 0.1953, 0.1953, 0.1953, 0.195...</td>\n",
       "      <td>[36.910000000000004, 37.0, 37.07, 37.18, 37.25...</td>\n",
       "    </tr>\n",
       "    <tr>\n",
       "      <th>4</th>\n",
       "      <td>4.400549</td>\n",
       "      <td>[5.359907053000001, 4.5512844555, 5.8527534034...</td>\n",
       "      <td>[2021-04-22T01:21:59.120000000, 2021-04-22T01:...</td>\n",
       "      <td>[obd.spd_veh, acc.xyz, acc.xyz, acc.xyz, acc.x...</td>\n",
       "      <td>[55.65502238338658, 55.65502269329073, 55.6550...</td>\n",
       "      <td>[12.486424923322684, 12.486424661341852, 12.48...</td>\n",
       "      <td>[0.9492, 0.9961, 0.9961, 0.9961, 0.9961, 0.996...</td>\n",
       "      <td>[0.0859, 0.0977, 0.0977, 0.0977, 0.0977, 0.097...</td>\n",
       "      <td>[0.1875, 0.1563, 0.1563, 0.1563, 0.1563, 0.156...</td>\n",
       "      <td>[41.2, 41.27, 41.38, 41.46, 41.53, 40.76, 41.6...</td>\n",
       "    </tr>\n",
       "  </tbody>\n",
       "</table>\n",
       "</div>"
      ],
      "text/plain": [
       "   IRI_mean                                       IRI_sequence  \\\n",
       "0  4.933540  [6.644882798499999, 5.5573473115, 7.666319952,...   \n",
       "1  4.696225  [5.5573473115, 7.666319952, 4.1605364705, 5.35...   \n",
       "2  4.699145  [7.666319952, 4.1605364705, 5.359907053000001,...   \n",
       "3  4.397566  [4.1605364705, 5.359907053000001, 4.5512844555...   \n",
       "4  4.400549  [5.359907053000001, 4.5512844555, 5.8527534034...   \n",
       "\n",
       "                                   GM.TS_or_Distance  \\\n",
       "0  [2021-04-22T01:21:54.349000000, 2021-04-22T01:...   \n",
       "1  [2021-04-22T01:21:55.068000000, 2021-04-22T01:...   \n",
       "2  [2021-04-22T01:21:56.327000000, 2021-04-22T01:...   \n",
       "3  [2021-04-22T01:21:57.983000000, 2021-04-22T01:...   \n",
       "4  [2021-04-22T01:21:59.120000000, 2021-04-22T01:...   \n",
       "\n",
       "                                                GM.T  \\\n",
       "0  [acc.xyz, acc.xyz, acc.xyz, acc.xyz, obd.spd_v...   \n",
       "1  [acc.xyz, acc.xyz, acc.xyz, acc.xyz, acc.xyz, ...   \n",
       "2  [acc.xyz, acc.xyz, acc.xyz, acc.xyz, acc.xyz, ...   \n",
       "3  [acc.xyz, acc.xyz, acc.xyz, acc.xyz, acc.xyz, ...   \n",
       "4  [obd.spd_veh, acc.xyz, acc.xyz, acc.xyz, acc.x...   \n",
       "\n",
       "                                          GM.lat_int  \\\n",
       "0  [55.654713308383236, 55.65471373053892, 55.654...   \n",
       "1  [55.654781462897525, 55.65478160070671, 55.654...   \n",
       "2  [55.654862308917195, 55.65486260509554, 55.654...   \n",
       "3  [55.654942544169614, 55.65494265017668, 55.654...   \n",
       "4  [55.65502238338658, 55.65502269329073, 55.6550...   \n",
       "\n",
       "                                          GM.lon_int  \\\n",
       "0  [12.486686901197604, 12.486686532934131, 12.48...   \n",
       "1  [12.48662899293286, 12.486628876325089, 12.486...   \n",
       "2  [12.486560579617835, 12.486560331210192, 12.48...   \n",
       "3  [12.486492964664311, 12.486492879858657, 12.48...   \n",
       "4  [12.486424923322684, 12.486424661341852, 12.48...   \n",
       "\n",
       "                                        GM.acc.xyz.z  \\\n",
       "0  [0.9727, 0.9727, 0.9727, 0.9727, 0.9922, 0.992...   \n",
       "1  [0.9727, 0.9727, 0.9727, 0.9727, 0.9727, 0.972...   \n",
       "2  [1.0391, 1.0391, 1.0391, 1.0391, 1.0391, 1.015...   \n",
       "3  [1.0391, 1.0391, 0.9805, 0.9805, 0.9805, 0.980...   \n",
       "4  [0.9492, 0.9961, 0.9961, 0.9961, 0.9961, 0.996...   \n",
       "\n",
       "                                        GM.acc.xyz.y  \\\n",
       "0  [-0.1172, -0.1172, -0.1172, -0.1172, -0.1211, ...   \n",
       "1  [-0.0898, -0.0898, -0.0898, -0.0898, -0.0898, ...   \n",
       "2  [0.0273, 0.0273, 0.0273, 0.0273, 0.0273, 0.011...   \n",
       "3  [0.1016, 0.1016, 0.0898, 0.0898, 0.0898, 0.089...   \n",
       "4  [0.0859, 0.0977, 0.0977, 0.0977, 0.0977, 0.097...   \n",
       "\n",
       "                                        GM.acc.xyz.x  \\\n",
       "0  [0.1602, 0.1602, 0.1602, 0.1602, 0.1563, 0.156...   \n",
       "1  [0.1406, 0.1406, 0.1406, 0.1406, 0.1406, 0.140...   \n",
       "2  [0.1523, 0.1523, 0.1523, 0.1523, 0.1523, 0.160...   \n",
       "3  [0.2188, 0.2188, 0.1953, 0.1953, 0.1953, 0.195...   \n",
       "4  [0.1875, 0.1563, 0.1563, 0.1563, 0.1563, 0.156...   \n",
       "\n",
       "                                GM.obd.spd_veh.value  \n",
       "0  [31.04, 31.0, 30.970000000000002, 31.470000000...  \n",
       "1  [29.52, 29.48, 29.42, 29.400000000000002, 29.3...  \n",
       "2  [30.080000000000002, 30.14, 30.2, 30.23, 29.54...  \n",
       "3  [36.910000000000004, 37.0, 37.07, 37.18, 37.25...  \n",
       "4  [41.2, 41.27, 41.38, 41.46, 41.53, 40.76, 41.6...  "
      ]
     },
     "execution_count": 17,
     "metadata": {},
     "output_type": "execute_result"
    }
   ],
   "source": [
    "print(list(df0))\n",
    "df0.head()"
   ]
  },
  {
   "cell_type": "code",
   "execution_count": 18,
   "metadata": {},
   "outputs": [
    {
     "name": "stdout",
     "output_type": "stream",
     "text": [
      "['IRI_mean', 'IRI_sequence', 'GM.TS_or_Distance', 'GM.T', 'GM.lat_int', 'GM.lon_int', 'GM.acc.xyz.z', 'GM.acc.xyz.y', 'GM.acc.xyz.x', 'GM.obd.spd_veh.value']\n"
     ]
    },
    {
     "data": {
      "image/png": "[encoded data removed]",
      "text/plain": [
       "<Figure size 432x288 with 1 Axes>"
      ]
     },
     "metadata": {
      "needs_background": "light"
     },
     "output_type": "display_data"
    },
    {
     "data": {
      "image/png": "[encoded data removed]",
      "text/plain": [
       "<Figure size 432x288 with 1 Axes>"
      ]
     },
     "metadata": {
      "needs_background": "light"
     },
     "output_type": "display_data"
    }
   ],
   "source": [
    "def show(col):\n",
    "    try:\n",
    "        plt.hist(df0[col].map(len), bins=50)\n",
    "        plt.show()\n",
    "        plt.plot(df0.loc[0,col])\n",
    "    except:\n",
    "        ...\n",
    "    \n",
    "print(list(df0))\n",
    "show(\"GM.acc.xyz.z\")\n",
    "# interact(show, col=list(df0));"
   ]
  },
  {
   "cell_type": "code",
   "execution_count": 19,
   "metadata": {},
   "outputs": [
    {
     "data": {
      "image/png": "[encoded data removed]",
      "text/plain": [
       "<Figure size 432x288 with 2 Axes>"
      ]
     },
     "metadata": {
      "needs_background": "light"
     },
     "output_type": "display_data"
    }
   ],
   "source": [
    "s0 = df0.loc[0]\n",
    "mask = s0['GM.T'] == 'acc.xyz'\n",
    "accT = s0['GM.TS_or_Distance'][mask]\n",
    "accZ = s0['GM.acc.xyz.z']\n",
    "obdT = s0['GM.TS_or_Distance'][~mask]\n",
    "obd = s0['GM.obd.spd_veh.value']\n",
    "\n",
    "# plt.plot(accZ)\n",
    "fig, ax1 = plt.subplots()\n",
    "ax2 = ax1.twinx()\n",
    "ax1.plot(accT, accZ, color='#1f77b4')\n",
    "ax2.plot(obdT, obd, color='#ff7f0e');\n",
    "\n",
    "# weird stuff on the orange curve (?)"
   ]
  },
  {
   "cell_type": "code",
   "execution_count": 20,
   "metadata": {},
   "outputs": [
    {
     "data": {
      "text/plain": [
       "PackedSequence(data=tensor([1, 3, 2, 4, 3]), batch_sizes=tensor([2, 2, 1]), sorted_indices=tensor([0, 1]), unsorted_indices=tensor([0, 1]))"
      ]
     },
     "execution_count": 20,
     "metadata": {},
     "output_type": "execute_result"
    }
   ],
   "source": [
    "import torch\n",
    "\n",
    "def get_packed(xs: [torch.Tensor]) -> \"PackedSequence\":\n",
    "    padded = torch.nn.utils.rnn.pad_sequence(xs, batch_first=True)\n",
    "    packd = torch.nn.utils.rnn.pack_padded_sequence(\n",
    "        padded, batch_first=True, lengths=list(map(len, xs)), enforce_sorted=False)\n",
    "    return packd\n",
    "\n",
    "xs = [torch.tensor([1, 2, 3]), torch.tensor([3, 4])]\n",
    "get_packed(xs)\n",
    "#on peut désormais avoir des trucs de tailles différentes"
   ]
  },
  {
   "cell_type": "code",
   "execution_count": null,
   "metadata": {},
   "outputs": [],
   "source": []
  },
  {
   "cell_type": "code",
   "execution_count": 21,
   "metadata": {},
   "outputs": [],
   "source": [
    "from torch.utils.data import Dataset\n",
    "\n",
    "class MyDS(Dataset):\n",
    "    def __init__(self, fname, size=None):\n",
    "        df = pd.read_parquet(fname)\n",
    "        zacc: pd.Series = df['GM.acc.xyz.z'] # Series[arr[:]float]\n",
    "        \n",
    "        if not size:\n",
    "            size = zacc.map(len).quantile(.1)\n",
    "            size = (int(size) // 32) * 32\n",
    "        self.sz = size\n",
    "        zacc = zacc[zacc.map(len) >= size]\n",
    "        self.zacc = zacc # still a Series\n",
    "        \n",
    "        # def truncate(arr): #pas besoin de truncate zac pcq on pack les sequences\n",
    "        #    return arr[:size]\n",
    "        # zacc = np.stack(zacc.map(truncate)).astype('float32')\n",
    "        # print(zacc.shape, size)\n",
    "        # self.zacc = zacc\n",
    "        \n",
    "    \n",
    "    def __getitem__(self, idx):\n",
    "        return self.zacc.iloc[idx]\n",
    "        # return self.zacc[idx][None,:]\n",
    "    \n",
    "    def __len__(self):\n",
    "        return len(self.zacc)\n",
    "\n",
    "L = 2048\n",
    "my_data = MyDS('pass0.parquet', 2048)"
   ]
  },
  {
   "cell_type": "code",
   "execution_count": 22,
   "metadata": {
    "tags": []
   },
   "outputs": [],
   "source": [
    "import torch\n",
    "import torch.nn as nn\n",
    "from torch.nn.utils.rnn import pack_padded_sequence, pad_packed_sequence\n",
    "\n",
    "class RNN_enc(nn.Module):\n",
    "    def __init__(self):\n",
    "        super().__init__()\n",
    "        \n",
    "        # juste 1 c ok ?\n",
    "        self.rnn1 = nn.RNN(input_size=1, hidden_size=5, num_layers=1,\n",
    "               batch_first=True)    \n",
    "        self.rnn2 = nn.RNN(input_size=5, hidden_size=5, num_layers=1,\n",
    "               batch_first=True)\n",
    "        #test: try diff params and adding more layers\n",
    "\n",
    "    def forward(self, x):\n",
    "        # print(x)\n",
    "        encoded1, cansr = self.rnn1(x)\n",
    "        encoded2, cansr2= self.rnn2(encoded1)\n",
    "        # print(encoded)\n",
    "        seq_unpacked, lens_unpacked = pad_packed_sequence(encoded, batch_first=True)\n",
    "        # print(lens_unpacked)\n",
    "        # print(seq_unpacked)\n",
    "        lens = list(lens_unpacked.numpy())\n",
    "        up = seq_unpacked.detach().numpy()\n",
    "        \n",
    "        last_seq_items = seq_unpacked[torch.arange(len(seq_unpacked)), lens_unpacked-1]\n",
    "        return last_seq_items\n",
    "        \n",
    "class RNN_dec(nn.Module):\n",
    "    def __init__(self):\n",
    "        super().__init__()\n",
    "        self.rnn1 = nn.RNN(input_size=5, hidden_size=1, num_layers=1,\n",
    "               batch_first=True)\n",
    "  \n",
    "    def forward(self, encoded, x): # we are not really cheating i swear\n",
    "        \n",
    "        seq_unpacked, lens_unpacked = pad_packed_sequence(x, batch_first=True)\n",
    "        #print(\"x:\", x)\n",
    "        #print(\"lens_unpackd: \",lens_unpacked)\n",
    "        # #print(\"size lens unpoc:\", lens_unpacked.size())\n",
    "        xs = [encoded[i].repeat(lens_unpacked[i],1) for i in range(len(seq_unpacked))]\n",
    "        decoded,cansr = self.rnn1(get_packed(xs))\n",
    "        return decoded\n",
    "\n",
    "class RNN_AE(nn.Module): #wrapper class for the encoder and decoders above\n",
    "    def __init__(self):\n",
    "        super().__init__()\n",
    "        self.enc = RNN_enc()\n",
    "        self.dec = RNN_dec()\n",
    "        \n",
    "    def forward(self,x):\n",
    "        encoded = self.enc(x)\n",
    "        decoded = self.dec(encoded, x)\n",
    "        return decoded\n",
    "\n",
    "    def get_latent(self,x):\n",
    "        return self.encoder(x)"
   ]
  },
  {
   "cell_type": "code",
   "execution_count": 23,
   "metadata": {
    "tags": []
   },
   "outputs": [],
   "source": [
    "import torch\n",
    "import torch.nn as nn \n",
    "\n",
    "class AE_conv(nn.Module):\n",
    "    def __init__(self, L):\n",
    "        super().__init__()\n",
    "        \n",
    "        mid = L // (4*4*4)\n",
    "        assert L % (4*4*4) == 0\n",
    "        \n",
    "        self.encoder = nn.Sequential(\n",
    "            nn.Conv1d(1, 3, 5, padding='same'),\n",
    "            nn.MaxPool1d(4,4),\n",
    "            nn.ReLU(),\n",
    "            nn.Conv1d(3, 3, 5, padding='same'),\n",
    "            nn.MaxPool1d(4,4),\n",
    "            nn.ReLU(),\n",
    "            nn.Conv1d(3, 3, 5, padding='same'),\n",
    "            nn.MaxPool1d(4,4),\n",
    "            nn.ReLU(),\n",
    "            nn.Flatten(),\n",
    "            nn.Linear(mid*3, 10)\n",
    "        )\n",
    "        \n",
    "        self.decoder = nn.Sequential(\n",
    "            nn.Linear(10, 3*mid),\n",
    "            nn.Unflatten(1, (3,mid)),\n",
    "            nn.ReLU(),\n",
    "            nn.Upsample(scale_factor=4),\n",
    "            nn.Conv1d(3, 3, 5, padding='same'),\n",
    "            nn.ReLU(),\n",
    "            nn.Upsample(scale_factor=4),\n",
    "            nn.Conv1d(3, 3, 5, padding='same'),\n",
    "            nn.ReLU(),\n",
    "            nn.Upsample(scale_factor=4),\n",
    "            nn.Conv1d(3, 1, 5, padding='same'),\n",
    "        )\n",
    "\n",
    "    def forward(self, x):\n",
    "        encoded = self.encoder(x)\n",
    "        # print(encoded.shape)\n",
    "        decoded = self.decoder(encoded)\n",
    "        return decoded\n",
    "            \n",
    "    def get_latent(self,x):\n",
    "        return self.encoder(x)"
   ]
  },
  {
   "cell_type": "code",
   "execution_count": null,
   "metadata": {
    "collapsed": true,
    "jupyter": {
     "outputs_hidden": true
    },
    "tags": []
   },
   "outputs": [
    {
     "name": "stdout",
     "output_type": "stream",
     "text": [
      "3.9052319526672363\n",
      "3.915306806564331\n",
      "3.9185678958892822\n",
      "3.9125730991363525\n",
      "3.912328004837036\n",
      "3.9190964698791504\n",
      "3.9115028381347656\n",
      "3.907966375350952\n",
      "3.9076695442199707\n",
      "3.904876232147217\n",
      "3.9016647338867188\n",
      "3.915029287338257\n",
      "3.9096670150756836\n",
      "3.9104349613189697\n",
      "3.9091362953186035\n",
      "3.900629758834839\n",
      "3.907369375228882\n",
      "3.905623197555542\n",
      "3.906597137451172\n",
      "3.9067089557647705\n",
      "3.901614189147949\n",
      "3.895627737045288\n",
      "3.9037883281707764\n",
      "3.902090311050415\n",
      "3.9077467918395996\n",
      "3.914440393447876\n",
      "3.904571294784546\n"
     ]
    }
   ],
   "source": [
    "from torch.utils.data import DataLoader\n",
    "\n",
    "def collate(batch):\n",
    "    batch = [torch.tensor(x, dtype=torch.float32).view(-1,1) for x in batch]\n",
    "    return get_packed(batch)\n",
    "dataloader = DataLoader(my_data, batch_size=8, shuffle=True,\n",
    "                       collate_fn=collate)\n",
    "model = RNN_AE()\n",
    "\n",
    "loss_fn = nn.MSELoss()\n",
    "optimizer = torch.optim.SGD(model.parameters(), lr=1e-3)\n",
    "\n",
    "\n",
    "for x in dataloader:\n",
    "    pred = model(x)\n",
    "    loss = loss_fn(pred.data, x.data) #packedsequences\n",
    "    \n",
    "    optimizer.zero_grad()\n",
    "    loss.backward()\n",
    "    optimizer.step()\n",
    "    \n",
    "    print(float(loss))"
   ]
  },
  {
   "cell_type": "code",
   "execution_count": null,
   "metadata": {},
   "outputs": [],
   "source": [
    "def visualization(x,display = True):\n",
    "    tsne = TSNE(n_components=2, n_iter=3000, )\n",
    "    vis = tsne.fit_transform(x)\n",
    "    if display:\n",
    "        fig, ax = plt.subplots()\n",
    "        ax.scatter(*vis.T)\n",
    "        plt.show()\n",
    "        #df_subset['tsne-2d-one'] = tsne_results[:,0]\n",
    "        #df_subset['tsne-2d-two'] = tsne_results[:,1]\n",
    "        #plt.figure(figsize=(16,10))\n",
    "        #sns.scatterplot(\n",
    "        #x=\"tsne-2d-one\", y=\"tsne-2d-two\",\n",
    "        #hue=\"y\",\n",
    "        #palette=sns.color_palette(\"hls\", 10),\n",
    "        #data=df_subset,\n",
    "        #legend=\"full\",\n",
    "        #alpha=0.3)\n",
    "    else:\n",
    "        return vis"
   ]
  },
  {
   "cell_type": "code",
   "execution_count": null,
   "metadata": {},
   "outputs": [],
   "source": [
    "latent = []\n",
    "\n",
    "for x in dataloader:\n",
    "    latent.append(model.get_latent(x).detach().numpy()[0])\n",
    "visualization(latent)\n"
   ]
  },
  {
   "cell_type": "code",
   "execution_count": null,
   "metadata": {},
   "outputs": [],
   "source": [
    "# TODO :\n",
    "# once model is trained, call pytorch model.dont_train (-> in pytorch no_grad=True)\n",
    "with torch.no_grad():\n",
    "    latent = model.get_latent(x).numpy()\n",
    "embed = sklearn.chungus.TSNE().fit_transform(latent)\n",
    "# plt.scatter(*embed.T)\n",
    "# latent: np.array, run some sort of regression on (ex logistic or linear for discrimination)\n",
    "#or small neural net again\n",
    "\n"
   ]
  },
  {
   "cell_type": "code",
   "execution_count": null,
   "metadata": {},
   "outputs": [],
   "source": []
  },
  {
   "cell_type": "code",
   "execution_count": null,
   "metadata": {},
   "outputs": [],
   "source": []
  }
 ],
 "metadata": {
  "kernelspec": {
   "display_name": "Python 3",
   "language": "python",
   "name": "python3"
  },
  "language_info": {
   "codemirror_mode": {
    "name": "ipython",
    "version": 3
   },
   "file_extension": ".py",
   "mimetype": "text/x-python",
   "name": "python",
   "nbconvert_exporter": "python",
   "pygments_lexer": "ipython3",
   "version": "3.8.9"
  }
 },
 "nbformat": 4,
 "nbformat_minor": 5
}
